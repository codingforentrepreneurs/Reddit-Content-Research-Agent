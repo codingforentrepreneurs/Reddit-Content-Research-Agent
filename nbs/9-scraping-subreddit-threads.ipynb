{
 "cells": [
  {
   "cell_type": "code",
   "execution_count": null,
   "id": "0",
   "metadata": {},
   "outputs": [],
   "source": [
    "import os\n",
    "from dotenv import load_dotenv\n",
    "\n",
    "load_dotenv()"
   ]
  },
  {
   "cell_type": "code",
   "execution_count": null,
   "id": "1",
   "metadata": {},
   "outputs": [],
   "source": [
    "BRIGHT_DATA_REDDIT_SCRAPER_API_KEY = os.environ.get(\"BRIGHT_DATA_REDDIT_SCRAPER_API_KEY\")\n",
    "assert BRIGHT_DATA_REDDIT_SCRAPER_API_KEY is not None"
   ]
  },
  {
   "cell_type": "code",
   "execution_count": null,
   "id": "2",
   "metadata": {},
   "outputs": [],
   "source": [
    "def get_crawl_headers():\n",
    "    return {\n",
    "\t\"Authorization\": f\"Bearer {BRIGHT_DATA_REDDIT_SCRAPER_API_KEY}\",\n",
    "\t\"Content-Type\": \"application/json\",\n",
    "}"
   ]
  },
  {
   "cell_type": "code",
   "execution_count": null,
   "id": "3",
   "metadata": {},
   "outputs": [],
   "source": [
    "import requests\n",
    "\n",
    "\n",
    "def perform_scrape_snapshot(subreddit_url, num_of_posts: int = 20):\n",
    "    url = \"https://api.brightdata.com/datasets/v3/trigger\"\n",
    "    headers = get_crawl_headers()\n",
    "    params = {\n",
    "    \t\"dataset_id\": \"gd_lvz8ah06191smkebj4\",\n",
    "    \t\"include_errors\": \"true\",\n",
    "    \t\"type\": \"discover_new\",\n",
    "    \t\"discover_by\": \"subreddit_url\",\n",
    "    \t\"limit_per_input\": \"100\",\n",
    "    }\n",
    "    data = [\n",
    "    \t{\"url\": f\"{subreddit_url}\",\"sort_by\":\"Top\",\"sort_by_time\":\"Today\",\"num_of_posts\":num_of_posts},\n",
    "    ]\n",
    "    \n",
    "    response = requests.post(url, headers=headers, params=params, json=data)\n",
    "    response.raise_for_status()\n",
    "    data = response.json()\n",
    "    return data.get(\"snapshot_id\")\n",
    "\n",
    "\n",
    "perform_scrape_snapshot(\"https://www.reddit.com/r/Django\", num_of_posts=25)\n",
    "    "
   ]
  },
  {
   "cell_type": "code",
   "execution_count": null,
   "id": "4",
   "metadata": {},
   "outputs": [],
   "source": [
    "snapshot_id='s_mf61dpsb2i1queb29'"
   ]
  },
  {
   "cell_type": "code",
   "execution_count": null,
   "id": "5",
   "metadata": {},
   "outputs": [],
   "source": [
    "def get_snapshot_progress(snapshot_id: str) -> bool:\n",
    "    url = f\"https://api.brightdata.com/datasets/v3/progress/{snapshot_id}\"\n",
    "    headers = get_crawl_headers()\n",
    "    response = requests.get(url, headers=headers)\n",
    "    response.raise_for_status()\n",
    "    data = response.json()\n",
    "    return data.get('status') == 'ready'\n",
    "\n",
    "\n",
    "get_snapshot_progress(snapshot_id)"
   ]
  },
  {
   "cell_type": "code",
   "execution_count": null,
   "id": "6",
   "metadata": {},
   "outputs": [],
   "source": [
    "def download_snapshot(snapshot_id: str) -> dict:\n",
    "    url = f\"https://api.brightdata.com/datasets/v3/snapshot/{snapshot_id}\"\n",
    "    headers = get_crawl_headers()\n",
    "    params = {\n",
    "        \"format\": \"json\"\n",
    "    }\n",
    "    response = requests.get(url, headers=headers, params=params)\n",
    "    response.raise_for_status()\n",
    "    data = response.json()\n",
    "    return data"
   ]
  },
  {
   "cell_type": "code",
   "execution_count": null,
   "id": "7",
   "metadata": {},
   "outputs": [],
   "source": [
    "reddit_results = download_snapshot(snapshot_id)"
   ]
  },
  {
   "cell_type": "code",
   "execution_count": null,
   "id": "8",
   "metadata": {},
   "outputs": [],
   "source": [
    "reddit_results"
   ]
  },
  {
   "cell_type": "code",
   "execution_count": null,
   "id": "9",
   "metadata": {},
   "outputs": [],
   "source": [
    "for thread in reddit_results:\n",
    "    # print(thread.keys())\n",
    "    print(thread.get(\"title\"), thread.get(\"num_upvotes\"))\n",
    "    print(\"\\n\")"
   ]
  },
  {
   "cell_type": "code",
   "execution_count": null,
   "id": "10",
   "metadata": {},
   "outputs": [],
   "source": []
  }
 ],
 "metadata": {
  "kernelspec": {
   "display_name": "Python 3 (ipykernel)",
   "language": "python",
   "name": "python3"
  },
  "language_info": {
   "codemirror_mode": {
    "name": "ipython",
    "version": 3
   },
   "file_extension": ".py",
   "mimetype": "text/x-python",
   "name": "python",
   "nbconvert_exporter": "python",
   "pygments_lexer": "ipython3",
   "version": "3.13.2"
  }
 },
 "nbformat": 4,
 "nbformat_minor": 5
}
