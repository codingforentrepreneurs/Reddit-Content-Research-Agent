{
 "cells": [
  {
   "cell_type": "code",
   "execution_count": null,
   "id": "0",
   "metadata": {},
   "outputs": [],
   "source": [
    "import os\n",
    "from dotenv import load_dotenv\n",
    "\n",
    "load_dotenv()"
   ]
  },
  {
   "cell_type": "code",
   "execution_count": null,
   "id": "1",
   "metadata": {},
   "outputs": [],
   "source": [
    "BRIGHT_DATA_REDDIT_SCRAPER_API_KEY = os.environ.get(\"BRIGHT_DATA_REDDIT_SCRAPER_API_KEY\")\n",
    "assert BRIGHT_DATA_REDDIT_SCRAPER_API_KEY is not None"
   ]
  },
  {
   "cell_type": "code",
   "execution_count": null,
   "id": "2",
   "metadata": {},
   "outputs": [],
   "source": [
    "def get_crawl_headers():\n",
    "    return {\n",
    "\t\"Authorization\": f\"Bearer {BRIGHT_DATA_REDDIT_SCRAPER_API_KEY}\",\n",
    "\t\"Content-Type\": \"application/json\",\n",
    "}"
   ]
  },
  {
   "cell_type": "code",
   "execution_count": null,
   "id": "3",
   "metadata": {},
   "outputs": [],
   "source": [
    "import requests\n",
    "\n",
    "url = \"https://api.brightdata.com/datasets/v3/trigger\"\n",
    "headers = get_crawl_headers()\n",
    "params = {\n",
    "\t\"dataset_id\": \"gd_lvz8ah06191smkebj4\",\n",
    "\t\"include_errors\": \"true\",\n",
    "\t\"type\": \"discover_new\",\n",
    "\t\"discover_by\": \"subreddit_url\",\n",
    "\t\"limit_per_input\": \"100\",\n",
    "}\n",
    "data = [\n",
    "\t{\"url\":\"https://www.reddit.com/r/Python\",\"sort_by\":\"Top\",\"sort_by_time\":\"Today\",\"num_of_posts\":10},\n",
    "]\n",
    "\n",
    "response = requests.post(url, headers=headers, params=params, json=data)\n",
    "print(response.json())"
   ]
  },
  {
   "cell_type": "code",
   "execution_count": null,
   "id": "4",
   "metadata": {},
   "outputs": [],
   "source": [
    "snapshot_id='s_mf60kfdl2gyz15otgq'"
   ]
  }
 ],
 "metadata": {
  "kernelspec": {
   "display_name": "Python 3 (ipykernel)",
   "language": "python",
   "name": "python3"
  },
  "language_info": {
   "codemirror_mode": {
    "name": "ipython",
    "version": 3
   },
   "file_extension": ".py",
   "mimetype": "text/x-python",
   "name": "python",
   "nbconvert_exporter": "python",
   "pygments_lexer": "ipython3",
   "version": "3.13.2"
  }
 },
 "nbformat": 4,
 "nbformat_minor": 5
}
