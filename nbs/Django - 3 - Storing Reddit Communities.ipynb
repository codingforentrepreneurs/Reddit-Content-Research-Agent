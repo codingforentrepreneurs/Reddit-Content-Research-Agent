{
 "cells": [
  {
   "cell_type": "code",
   "execution_count": null,
   "id": "0",
   "metadata": {},
   "outputs": [],
   "source": [
    "import setup\n",
    "\n",
    "setup.init()"
   ]
  },
  {
   "cell_type": "code",
   "execution_count": null,
   "id": "1",
   "metadata": {},
   "outputs": [],
   "source": [
    "import helpers.bd"
   ]
  },
  {
   "cell_type": "code",
   "execution_count": null,
   "id": "2",
   "metadata": {},
   "outputs": [],
   "source": [
    "from queries import services as query_db_serivces"
   ]
  },
  {
   "cell_type": "code",
   "execution_count": null,
   "id": "3",
   "metadata": {},
   "outputs": [],
   "source": [
    "from snapshots.tasks import perform_reddit_scrape_task"
   ]
  },
  {
   "cell_type": "code",
   "execution_count": null,
   "id": "4",
   "metadata": {},
   "outputs": [],
   "source": [
    "from reddit.models import RedditCommunity\n",
    "import ai"
   ]
  },
  {
   "cell_type": "code",
   "execution_count": null,
   "id": "5",
   "metadata": {},
   "outputs": [],
   "source": [
    "query = \"Automation and N8n and make.com and zapier.com\""
   ]
  },
  {
   "cell_type": "code",
   "execution_count": null,
   "id": "6",
   "metadata": {},
   "outputs": [],
   "source": [
    "# ai.extract_topics_agent(query)"
   ]
  },
  {
   "cell_type": "code",
   "execution_count": null,
   "id": "7",
   "metadata": {},
   "outputs": [],
   "source": [
    "topics = query_db_serivces.perform_topic_extraction(query)\n",
    "print(topics)\n",
    "topic_names = \", \".join([x.get('name') for x in topics])\n",
    "topic_names"
   ]
  },
  {
   "cell_type": "code",
   "execution_count": null,
   "id": "8",
   "metadata": {},
   "outputs": [],
   "source": [
    "for x in topics[:1]:\n",
    "    topic_name = x.get('name')\n",
    "    print(f\"Researching {topic_name}\")\n",
    "    community_data = ai.perform_get_reddit_communites(topic_name)\n",
    "    for community in community_data:\n",
    "        url = community.pop(\"url\")\n",
    "        print(community)\n",
    "        instance, created = RedditCommunity.objects.update_or_create(\n",
    "            url = url,\n",
    "            defaults = community\n",
    "        )\n",
    "        # if created:\n",
    "        #     for sort_by in helpers.bd.BRIGHT_DATA_SCRAPE_SORT_OPTIONS:\n",
    "        #         perform_reddit_scrape_task.delay(\n",
    "        #             url, \n",
    "        #             num_of_posts = 5, \n",
    "        #             progress_countdown=300,\n",
    "        #             sort_by_time=sort_by\n",
    "        #        )\n",
    "        # else:\n",
    "        #     perform_reddit_scrape_task.delay(\n",
    "        #         url, \n",
    "        #         num_of_posts = 5, \n",
    "        #         progress_countdown=300,\n",
    "        #         sort_by_time = \"This Week\"\n",
    "        #    )"
   ]
  },
  {
   "cell_type": "code",
   "execution_count": null,
   "id": "9",
   "metadata": {},
   "outputs": [],
   "source": []
  },
  {
   "cell_type": "code",
   "execution_count": null,
   "id": "10",
   "metadata": {},
   "outputs": [],
   "source": []
  }
 ],
 "metadata": {
  "kernelspec": {
   "display_name": "Python 3 (ipykernel)",
   "language": "python",
   "name": "python3"
  },
  "language_info": {
   "codemirror_mode": {
    "name": "ipython",
    "version": 3
   },
   "file_extension": ".py",
   "mimetype": "text/x-python",
   "name": "python",
   "nbconvert_exporter": "python",
   "pygments_lexer": "ipython3",
   "version": "3.13.2"
  }
 },
 "nbformat": 4,
 "nbformat_minor": 5
}
