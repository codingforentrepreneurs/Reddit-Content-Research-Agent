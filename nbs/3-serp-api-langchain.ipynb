{
 "cells": [
  {
   "cell_type": "code",
   "execution_count": 2,
   "id": "fe2c2732-8c04-42e0-b886-5253af21831a",
   "metadata": {},
   "outputs": [
    {
     "data": {
      "text/plain": [
       "True"
      ]
     },
     "execution_count": 2,
     "metadata": {},
     "output_type": "execute_result"
    }
   ],
   "source": [
    "import os\n",
    "\n",
    "from dotenv import load_dotenv\n",
    "\n",
    "load_dotenv()"
   ]
  },
  {
   "cell_type": "code",
   "execution_count": null,
   "id": "1e0603ee-d34e-4385-bccb-44f8a011dc4f",
   "metadata": {},
   "outputs": [],
   "source": []
  },
  {
   "cell_type": "code",
   "execution_count": 3,
   "id": "27ba4b3f-ac46-4c2e-9d40-0b718281b58e",
   "metadata": {},
   "outputs": [],
   "source": [
    "BRIGHT_DATA_SERP_API_KEY = os.environ.get(\"BRIGHT_DATA_SERP_API_KEY\")\n",
    "assert BRIGHT_DATA_SERP_API_KEY is not None"
   ]
  },
  {
   "cell_type": "code",
   "execution_count": 4,
   "id": "c7582c59-e820-48dd-88a9-698edd6a94b3",
   "metadata": {},
   "outputs": [],
   "source": [
    "from langchain_brightdata import BrightDataSERP\n",
    "\n",
    "serp_tool = BrightDataSERP(\n",
    "    bright_data_api_key=BRIGHT_DATA_SERP_API_KEY,\n",
    "    search_engine=\"google\",\n",
    "    country=\"us\",\n",
    "    parse_results=True\n",
    ")"
   ]
  },
  {
   "cell_type": "code",
   "execution_count": 5,
   "id": "6447e99f-105d-44e8-acd1-937721347025",
   "metadata": {},
   "outputs": [],
   "source": [
    "result_data = serp_tool.invoke(\"reddit.com Python\")"
   ]
  },
  {
   "cell_type": "code",
   "execution_count": 20,
   "id": "dce777ab-827b-43d8-a8a2-31aad646bfb8",
   "metadata": {},
   "outputs": [],
   "source": [
    "# beautifulsoup -> parse result"
   ]
  },
  {
   "cell_type": "code",
   "execution_count": 6,
   "id": "b3127c0e-6248-41a2-bc96-a39e975d40d1",
   "metadata": {},
   "outputs": [],
   "source": [
    "import json\n",
    "data = json.loads(result_data)"
   ]
  },
  {
   "cell_type": "code",
   "execution_count": 7,
   "id": "44be1d3d-d94b-4f9d-95e5-694120f952bd",
   "metadata": {},
   "outputs": [
    {
     "data": {
      "text/plain": [
       "dict_keys(['general', 'input', 'navigation', 'organic', 'perspectives', 'pagination', 'related', 'people_also_ask', 'ai_overview'])"
      ]
     },
     "execution_count": 7,
     "metadata": {},
     "output_type": "execute_result"
    }
   ],
   "source": [
    "data.keys()"
   ]
  },
  {
   "cell_type": "code",
   "execution_count": 10,
   "id": "4d02aed2-cbdb-4bb0-9f10-26b5d6abc701",
   "metadata": {},
   "outputs": [
    {
     "name": "stdout",
     "output_type": "stream",
     "text": [
      "Python https://www.reddit.com/r/Python/ https://www.reddit.com › Python\n",
      "----------\n",
      "How to learn python : r/pythontips https://www.reddit.com/r/pythontips/comments/1gav6bm/how_to_learn_python/ 20+ comments · 10 months ago\n",
      "----------\n",
      "How do I possibly answer the question \"What's the point of ... https://www.reddit.com/r/learnprogramming/comments/1734r9k/how_do_i_possibly_answer_the_question_whats_the/ 200+ comments · 1 year ago\n",
      "----------\n",
      "What's the coolest thing you have built using python https://www.reddit.com/r/pythontips/comments/17bp7qi/whats_the_coolest_thing_you_have_built_using/ 60+ comments · 1 year ago\n",
      "----------\n",
      "r/pythoncoding https://www.reddit.com/r/pythoncoding/ 37.3K+ followers\n",
      "----------\n",
      "Is python really that easy? : r/PythonLearning https://www.reddit.com/r/PythonLearning/comments/1j59r7o/is_python_really_that_easy/ 20+ comments · 6 months ago\n",
      "----------\n"
     ]
    }
   ],
   "source": [
    "for result in data.get('organic'):\n",
    "    # print(result.keys())\n",
    "    print(result.get('title'), result.get('link'), result.get(\"display_link\"))\n",
    "    print(\"-\" * 10)"
   ]
  },
  {
   "cell_type": "code",
   "execution_count": null,
   "id": "138bdc02-f82a-4e8a-80b0-ffdd8604cfa5",
   "metadata": {},
   "outputs": [],
   "source": []
  },
  {
   "cell_type": "code",
   "execution_count": null,
   "id": "f262fd17-de73-4df0-961b-7b365c1a41ad",
   "metadata": {},
   "outputs": [],
   "source": []
  }
 ],
 "metadata": {
  "kernelspec": {
   "display_name": "Python 3 (ipykernel)",
   "language": "python",
   "name": "python3"
  },
  "language_info": {
   "codemirror_mode": {
    "name": "ipython",
    "version": 3
   },
   "file_extension": ".py",
   "mimetype": "text/x-python",
   "name": "python",
   "nbconvert_exporter": "python",
   "pygments_lexer": "ipython3",
   "version": "3.13.2"
  }
 },
 "nbformat": 4,
 "nbformat_minor": 5
}
